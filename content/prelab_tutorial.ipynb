{
 "cells": [
  {
   "cell_type": "markdown",
   "id": "83750354",
   "metadata": {},
   "source": [
    "Før du starter, installer modulen ved å kjøre følgende linje"
   ]
  },
  {
   "cell_type": "code",
   "execution_count": null,
   "id": "9b9c1e35",
   "metadata": {},
   "outputs": [],
   "source": [
    "%pip install -q xdai"
   ]
  },
  {
   "cell_type": "markdown",
   "id": "4bafee44",
   "metadata": {},
   "source": [
    "<img src=\"gpr_vis_9.png\" width = 100%>"
   ]
  },
  {
   "cell_type": "markdown",
   "id": "c5fd97ea",
   "metadata": {},
   "source": [
    "# Med kunstig intelligens som labpartner\n",
    "\n",
    "<a href=\"https://hazelbright.github.io/xdai\">XDAI</a> og dette dokumentet er utviklet av Audun Skau Hansen <a href=\"mailto:auduns@uio.no\">✉</a>, Stian Kogler, Hanne Røberg-Larsen, Steven H. R. Wilson, Elias Dalan, Ayla S. Coder, Hanan Gharayba og Maren H.S. Johnsen ved Universitetet i Oslo, våren 2023.\n",
    "\n",
    "---\n",
    "\n",
    "**Hvordan får vi mest mulig informasjon ut av et eksperiment med færrest mulig målinger? La oss se på en mulig fremgangsmåte som vil kunne hjelpe deg å løse dette problemet.**\n",
    "\n",
    "Moderne maskinlærings(ML)-teknikker er gjerne basert på store **datasett**, bestående av \"inn-data\" i form av **målinger** (innen ML typisk kalt \"features\") med tilhørende \"ut-data\" i form av **resultater** (innen ML gjerne kalt \"labels\" eller \"targets\"). En ML-teknikk som kalles \"supervised learning\" har som mål å trene en **modell** så den kan gjøre **prediksjoner** i samsvar med datasettet. Du har kanskje vært borti dette før gjennom lineær regresjon, hvor modellen er et polynom.\n",
    "\n",
    "<p></p>\n",
    "<div>\n",
    "    <img src=\"regression_model_4.png\" width = 60%>\n",
    "    <center><b>Figur 1:</b> Maskinlæring: et datasett med målinger og resultater brukes for å lære opp en modell på datamaskinen.</center>\n",
    "</div>\n",
    "<p></p>\n",
    "<p></p>\n",
    "\n"
   ]
  },
  {
   "cell_type": "markdown",
   "id": "2edf149f",
   "metadata": {},
   "source": [
    "## Bayesiansk optimering\n",
    "\n",
    "Eksperimenter kan imidlertid være tids- og arbeidskrevende, og vi har ikke alltid tilgang på store datasett. I tillegg kan det være en utfordring at vi ikke har forutsetning for å anta noe om den matematiske formen på resultatene. I slike tilfeller passer det å benytte noe som kalles **Gaussiske prosesser** (GP) som modell. Å benytte GP for å predikere et maksimum (topp- eller bunnpunkt) i målingene er en form for det som kalles for **Bayesiansk optimering** (BO). \n",
    "\n",
    "En fordel med denne metoden er at den kan ta måleusikkerhet med i betraktningen, noe som gjør den spesielt godt egnet til å analysere eksperimentelle data.\n",
    "\n",
    "Vi vil ikke gå dypt inn i hvordan disse metodene fungerer, så om du ønsker en mer detaljert innføring kan du ta en titt på følgende kilder:\n",
    "\n",
    "<table>\n",
    "    <tr>\n",
    "        <th>\n",
    "            En artikkel om Bayesiansk optimering for eksperimentell design\n",
    "        </th>\n",
    "        <th>\n",
    "        <p>Greenhill, S., Rana, S., Gupta, S., Vellanki, P., & Venkatesh, S. (2020). <a href=\"https://ieeexplore.ieee.org/abstract/document/8957442\">*Bayesian optimization for adaptive experimental design: A review.*</a> IEEE access, 8, 13937-13948.</p>\n",
    "            </th>\n",
    "    </tr>\n",
    "    <tr>\n",
    "          <th>\n",
    "              En artikkel om Bayesiansk optimering generelt\n",
    "        </th>\n",
    "        <th>\n",
    "    <p>Shahriari, B., Swersky, K., Wang, Z., Adams, R. P., & De Freitas, N. (2015). <a href=\"https://ieeexplore.ieee.org/abstract/document/7352306\">*Taking the human out of the loop: A review of Bayesian optimization.*</a> Proceedings of the IEEE, 104(1), 148-175.</p></tr>\n",
    "    </th>\n",
    "    <th>\n",
    "              Mer detaljert om hvordan man utvikler en GP-regressor\n",
    "        </th>\n",
    "        <th>\n",
    "    <p>Zhang, A., Lipton, Z. C., Li, M., & Smola, A. J. (2021). <a href=\"https://d2l.ai/chapter_gaussian-processes/index.html\">*Dive into deep learning*</a>. arXiv preprint arXiv:2106.11342.</p></tr>\n",
    "    </th>\n",
    "    <tr>\n",
    "    <th>\n",
    "              Open World Learning-ressurs om GP-regresjon og Bayesiansk Optimering\n",
    "        </th>\n",
    "        <th>\n",
    "    <p>Dalan, E. <a href=\"https://openworldlearning.github.io/docs/software/gpr/AI_in_the_lab.html\">Open World Learning / B-tjenesten</a></p></tr>\n",
    "    </th>\n",
    "</table>\n",
    "\n",
    "\n",
    "\n",
    "\n",
    "\n",
    "\n"
   ]
  },
  {
   "cell_type": "markdown",
   "id": "ca7707a9",
   "metadata": {},
   "source": [
    "## Mål for denne notebooken\n",
    "\n",
    "Denne notebooken gir en innføring i den studentutviklede Python-modulen <a href=\"\">XDAI</a> til støtte for eksperimentelt arbeid. Notebooken er delt inn i fire deler:\n",
    "1. **Eksperimentell design:**  planlegge målingene dine.\n",
    "2. **Regresjon:** Tilpasse en Gaussisk prosess regressor (GPR) til datasettet ditt.\n",
    "3. **Prediksjon:** Predikere en måling for optimalt resultat. (Bayesiansk optimering)\n",
    "4. **Fortolkning** Visualisering av resultater.\n",
    "\n",
    "Målet er å gjøre deg i stand til å finne optimale målepunkter for et bredt utvalg problemstillinger. Husk imidlertid at maskinlæringsmetoder ikke kan bli bedre enn de datasettene vi trener algoritmen på, så presise målinger og kritisk refleksjon rundt resultatene er avgjørende for å oppnå gode resultater."
   ]
  },
  {
   "cell_type": "markdown",
   "id": "87bf69f6",
   "metadata": {},
   "source": [
    "<div class=\"alert alert-block alert-info\">\n",
    "    <h2> Diskusjonsoppgaver</h2>\n",
    "<ul>    \n",
    " <li>Gi 3 eksempler på \"inn-data\" og \"ut-data\" (fra eksperiment, statistikk eller hverdagen) </li>\n",
    "<li>Hvordan tolker du det å \"predikere et maksimum i målingene\"? </li>\n",
    "<li>Hva innebærer det å optimere noe? Kan du gi noen eksempler på optimering? (hverdagslig eller vitenskapelig)</li>\n",
    "<li>Kan du tenke deg tilfeller hvor du kan anta noe om formen på den matematiske formen på resultatene?</li>\n",
    "<li>Kan du tenke deg tilfeller hvor du ikke kan anta noe om denne formen?</li>\n",
    "<li>Hva legger du i det å \"lære opp en modell på datamaskinen\"? Hvordan tror du dette gjøres i praksis?</li>\n",
    "    </ul>\n",
    "</div>\n"
   ]
  },
  {
   "cell_type": "markdown",
   "id": "fab72a11",
   "metadata": {},
   "source": [
    "---\n",
    "\n",
    "## 1. **Eksperimentell design:** å planlegge målinger\n",
    "\n",
    "Forestill deg at vi vil finne en optimal sammensetning av målevariablene $\\mathbf{x}_*$ som inngår i et eksperiment (for eksempel temperatur, trykk, konsentrasjoner, varighet og lignende). Hver måling er tidkrevende, så vi ønsker å gjøre så få målinger som mulig. \n",
    "\n",
    "Vi planlegger derfor et begrenset antall målinger i et område hvor vi tror at den optimale sammensetningen befinner seg. Fra disse målingene vil du estimere en mer eksakt plassering av optimum. \n",
    "\n",
    "Det å planlegge disse målingene kalles **eksperimentell design**. Vi kommer i det følgende til å avgrense måleområdet med nedre og øvre terskelverdier i målevariablene. \n",
    "\n",
    "I en dimensjon er dette enkelt. Forestill deg for eksempel at vi skal finne en optimal temperatur for veksten av en bakteriekultur. Vi antar at bakteriene trives best ved romtemperatur, så vi velger et måleintervall mellom 10 og 30 grader Celsius. Deretter gjør vi målinger av vekstraten for 10 grader, 30 grader og kanskje for 20 grader (i midten av intervallet vårt). \n",
    "\n",
    "I det følgende bruker vi <a href=\"\">XDAI</a> til å sette opp 1 og 2 dimensjoner. Du skal selv sette opp 3 dimensjoner."
   ]
  },
  {
   "cell_type": "code",
   "execution_count": null,
   "id": "830b2a3e",
   "metadata": {},
   "outputs": [],
   "source": [
    "import xdai\n",
    "import numpy as np\n",
    "import matplotlib.pyplot as plt\n",
    "\n",
    "limits = [[10,30]]\n",
    "\n",
    "grid_1d = xdai.designer.doe_grid( limits )\n",
    "\n",
    "xdai.designer.html_table( grid_1d ) # display 1d table nicely formatted in noteobok"
   ]
  },
  {
   "cell_type": "code",
   "execution_count": null,
   "id": "05ad65c2",
   "metadata": {},
   "outputs": [],
   "source": [
    "limits = [[10,30], [0,1]]\n",
    "\n",
    "grid_1d = xdai.designer.doe_grid( limits )\n",
    "\n",
    "xdai.designer.html_table( grid_1d ) # display 2d table nicely formatted in noteobok"
   ]
  },
  {
   "cell_type": "code",
   "execution_count": null,
   "id": "cca2fa54",
   "metadata": {},
   "outputs": [],
   "source": [
    "limits = [ ... ]\n",
    "\n",
    "grid_1d = xdai.designer.doe_grid( limits )\n",
    "\n",
    "xdai.designer.html_table( grid_1d ) # display 1d table nicely formatted in noteobok"
   ]
  },
  {
   "cell_type": "markdown",
   "id": "eae46972",
   "metadata": {},
   "source": [
    "### Box-Behnken design\n",
    "\n",
    "Det finnes flere ulike teknikker for å designe et eksperiment (se for eksempel <a href=\"https://www.itl.nist.gov/div898/handbook/pri/section5/pri5.htm\">her</a>). I tilfellene over brukte vi et  komplett faktorielt design, hvor samtlige målinger innenfor de øvre og nedre terskelverdiene inngår. For tre målevariabler (med 3 målepunkter per variabel) utgjør dette $3^3 = 27$ antall eksperimenter. \n",
    "\n",
    "I mange tilfeller holder det å kun benytte et utvalg av disse eksperimentene, og vi skal benytte det som kalles et Box-Behnken design <a href=\"https://en.wikipedia.org/wiki/Box%E2%80%93Behnken_design\">[wikipedia]</a>. Vi setter det opp i 2 dimensioner med XDAI på følgende måte:"
   ]
  },
  {
   "cell_type": "code",
   "execution_count": null,
   "id": "0458c727",
   "metadata": {},
   "outputs": [],
   "source": [
    "import xdai \n",
    "import numpy as np\n",
    "from scipy.interpolate import interp1d"
   ]
  },
  {
   "cell_type": "code",
   "execution_count": null,
   "id": "71e288a3",
   "metadata": {},
   "outputs": [],
   "source": [
    "import numpy as np\n",
    "\n",
    "limits = [ [... ],[ ... ], [... ]] #sett inn dine grenser her\n",
    "\n",
    "bb_grid = xdai.designer.doe_grid(limits, design = 2) # design=2 gir et Box-Behnken design\n",
    "bb_grid"
   ]
  },
  {
   "cell_type": "markdown",
   "id": "34776623",
   "metadata": {},
   "source": [
    "<p></p>\n",
    "<div>\n",
    "    <img src=\"cube_bbdesign.png\" width = 60%>\n",
    "    <center><b>Figur 2:</b> Box-Behnken design i tre dimensjoner gir 13 unike målepunkter, og det er vanlig med tre repetisjoner i senter av måleintervallet.</center>\n",
    "</div>\n",
    "<p></p>\n",
    "<p></p>\n"
   ]
  },
  {
   "cell_type": "markdown",
   "id": "bd7c719b",
   "metadata": {},
   "source": [
    "Vi kan nå gjøre målingene som er illustrert i tabellen. Dette gjøres manuelt, ved å følge instruksjoner labheftet. Når målingene er utført legges de inn i en numpy-array som dette:"
   ]
  },
  {
   "cell_type": "code",
   "execution_count": null,
   "id": "2c12e7d0",
   "metadata": {},
   "outputs": [],
   "source": [
    "resultater = np.array([ ... ])"
   ]
  },
  {
   "cell_type": "markdown",
   "id": "ee1dfdb0",
   "metadata": {},
   "source": [
    "---\n",
    "\n",
    "## 2. Regresjon\n",
    "\n",
    "Vi er nå klare til å bruke resultatene til å lage en modell. Vi skal benytte en Gaussisk Prosess Regerssor (GPR) fra XDAI modulen. Les gjerne mer om hvordan denne regressoren fungerer <a href=\"https://openworldlearning.github.io/docs/software/gpr/AI_in_the_lab.html\">her</a> ved behov - til vårt formål er det for øvrig nok å merke seg at regressoren\n",
    "- kan gi deg prediksjoner med tilhørende standardavvik.\n",
    "- baserer sine prediksjoner på <a href=\"https://en.wikipedia.org/wiki/Bayes%27_theorem\">Bayes teorem</a>.\n",
    "- ikke egner seg så godt for store datasett.\n",
    "- gir deg en skalar prediksjon (det er i prinsippet mulig å utvide til vektorielle prediksjoner, men XDAI-modulen har ikke støtte for dette enda). \n",
    "\n",
    "For å komme i gang må vi først ha noen målinger og resultater tilgjengelig som variabler. I cellen under lager vi et \"lekedatasett\", hvor maksimumsverdien er plassert i $\\mathbf{x} = (0.25, 0.15, 0.07)$. I laboratoriet benyttes imidlertid resultatene får fra måleinstrumentene."
   ]
  },
  {
   "cell_type": "code",
   "execution_count": null,
   "id": "e0ef64d1",
   "metadata": {},
   "outputs": [],
   "source": [
    "# vi genererer et eksempeldatasett under. Erstatt dette med det du planlegger i labølvelsen.\n",
    "\n",
    "limits = np.array([ [-.4,.4], [-.2,.2], [-.3,.3]])\n",
    "\n",
    "målinger = xdai.designer.doe_grid(limits, design = 2)\n",
    "\n",
    "# et \"lekedatasett\" med optimum plassert i (.25, .15, .07)\n",
    "resultater = 4*np.exp( - 1*((målinger[:,0]-.25)**2 +(målinger[:,1]-.15)**2 + (målinger[:,2]-.07)**2) )\n",
    "\n",
    "# litt støy for å simulere virkelige data\n",
    "resultater += np.random.normal(0,1,resultater.shape)*.05"
   ]
  },
  {
   "cell_type": "markdown",
   "id": "26f95ec4",
   "metadata": {},
   "source": [
    "Deretter kan du benytte xdai.gpr-modulen for å tilpasse datasettet. Box-Behnken-designet har tre repetisjoner i senter av måleområdet, noe som kan benyttes til å fininstille modellens parametere så for å etablere tillit til prediksjonene den gjør. I første omgang gir du derfor ikke modellen tilgang til disse tre målepunktene:"
   ]
  },
  {
   "cell_type": "code",
   "execution_count": null,
   "id": "8bd7de16",
   "metadata": {},
   "outputs": [],
   "source": [
    "\n",
    "parametre = np.ones(målinger.shape[1])\n",
    "måling_standardavvik = .001\n",
    "\n",
    "x = målinger[3:] # målinger / input\n",
    "y = -1*resultater[3:] # resultater / utput\n",
    "\n",
    "# her initialiserer vi modellen\n",
    "gpr = xdai.gpr.Regressor(x, y,measurement_standard_deviation=måling_standardavvik, params = parametre) \n",
    "\n",
    "# vi plotter til slutt resultatene\n",
    "\n",
    "plt.figure()\n",
    "\n",
    "# resultatene\n",
    "plt.plot(resultater, \"o\", label = \"Resultater\", zorder = 4, markersize = 10, color = np.array([.1,.2,.3])**.3)\n",
    "\n",
    "# prediksjonene\n",
    "plt.plot(-1*gpr.predict(målinger), \"*\", label = \"Prediksjon\", zorder = 5, color = np.array([.3,.2,.1]))\n",
    "\n",
    "# en sti mellom alle målepunktene (se figuren under):\n",
    "X3p = interp1d(np.linspace(0,1,målinger.shape[0]), målinger.T)(np.linspace(0,1,målinger.shape[0]*50))\n",
    "\n",
    "# prediker punkter langs stien (med varians)\n",
    "fx, fv = gpr.predict(X3p.T, return_variance = True) #predict results and variance\n",
    "\n",
    "# prediksjoner langs stien\n",
    "plt.plot(np.linspace(0,målinger.shape[0]-1,målinger.shape[0]*50),-1*fx,\"-\",  label = \"Prediksjon\", color = (.3,.3,.1))\n",
    "\n",
    "# varians langs stien\n",
    "plt.fill_between(np.linspace(0,målinger.shape[0]-1,målinger.shape[0]*50),-fx-fv,-fx+fv,  label = \"Prediksjonsvarians\", color = (.8,.8,.6))\n",
    "\n",
    "plt.ylabel(\"Normaliserte resultater\")\n",
    "plt.xlabel(\"Måling nr #\")\n",
    "plt.legend()\n",
    "plt.show()"
   ]
  },
  {
   "cell_type": "markdown",
   "id": "b238f033",
   "metadata": {},
   "source": [
    "<p></p>\n",
    "<div>\n",
    "    <img src=\"cube_bbdesign_path_enumerated.png\" width = 60%>\n",
    "    <center><b>Figur 3:</b> Når modellen/regressoren er tilpasset datasettet kan vi bruke den til å reprodusere resultatene både i og utenfor målepunktene.  I figuren over vises veien mellom målepunktene hvor vi har gjort prediksjoner, hvor rekkefølgen er indikert med tallindekser. </center>\n",
    "</div>\n",
    "<p></p>\n",
    "<p></p>\n"
   ]
  },
  {
   "cell_type": "markdown",
   "id": "44f127a9",
   "metadata": {},
   "source": [
    "<div class=\"alert alert-block alert-info\">\n",
    "    <h2> Diskusjonsoppgaver</h2>\n",
    "<ul>    \n",
    " <li>Hva representerer de blå punktene og sorte stjernene i figuren vi laget over? Er de identiske? Hvordan forklarer du dette?</li>\n",
    "<li>Den kontinuerlige linjen mellom resultatene er prediksjoner langs en linje trukket mellom målepunktene. Det er litt vanskelig å forstår fra koden hvordan dette fungerer i tre dimensjoner. Kan dere forklare det for hverandre i en dimensjon ved hjelp av en tavle? </li>\n",
    "<li>Hvor er variansen i prediksjonene størst? Hvordan forklarer du dette?</li>\n",
    "<li>Hvordan skiller resultat og prediksjon i de tre første målepunktene seg fra resten av datasettet? Kan du forklare hvordan denne forskjellen oppstår?</li>\n",
    "<li>Kopier cellene over og tilpass skriptet så det kjører for 4 dimensjoner.</li>\n",
    "    </ul>\n",
    "</div>\n"
   ]
  },
  {
   "cell_type": "markdown",
   "id": "d5312ce1",
   "metadata": {},
   "source": [
    "### Trening\n",
    "\n",
    "Vi vil nå finne de parametrene som gir best prediksjoner sammenliknet med det vi vet om de tre målingene i senter av boksen. Dette kan automatiseres (men krever en våken bruker dersom optimeringsalgoritmen foreslår urimelige verdier), noe vi gjør på følgende måte:"
   ]
  },
  {
   "cell_type": "code",
   "execution_count": null,
   "id": "37a48a3f",
   "metadata": {},
   "outputs": [],
   "source": [
    "optimale_parametre = xdai.gpr.parameter_optimization(målinger,-resultater, params = parametre*.1, training_subset = np.arange(3,resultater.shape[0]),measurement_standard_deviation=måling_standardavvik) #, normalize_y = True)\n",
    "print(\"Optimerte parametere:\", optimale_parametre)\n",
    "\n",
    "gpr = xdai.gpr.Regressor(x, y,measurement_standard_deviation=måling_standardavvik, params = optimale_parametre) \n",
    "\n"
   ]
  },
  {
   "cell_type": "code",
   "execution_count": null,
   "id": "1023e837",
   "metadata": {},
   "outputs": [],
   "source": [
    "# vi plotter resultatene\n",
    "\n",
    "plt.figure()\n",
    "# resultatene\n",
    "plt.plot(resultater, \"o\", label = \"Resultater\", zorder = 4, markersize = 10, color = np.array([.1,.2,.3])**.3)\n",
    "\n",
    "# prediksjonene\n",
    "plt.plot(-1*gpr.predict(målinger), \"*\", label = \"Prediksjon\", zorder = 5, color = np.array([.3,.2,.1]))\n",
    "\n",
    "X3p = interp1d(np.linspace(0,1,målinger.shape[0]), målinger.T)(np.linspace(0,1,målinger.shape[0]*50))\n",
    "\n",
    "fx, fv = gpr.predict(X3p.T, return_variance = True) #predict results and variance\n",
    "\n",
    "\n",
    "plt.plot(np.linspace(0,målinger.shape[0]-1,målinger.shape[0]*50),-1*fx,\"-\",  label = \"Prediksjon\", color = (.3,.3,.1))\n",
    "plt.fill_between(np.linspace(0,målinger.shape[0]-1,målinger.shape[0]*50),-fx-fv,-fx+fv,  label = \"Prediksjonsvarians\", color = (.8,.8,.6))\n",
    "plt.ylabel(\"Normaliserte resultater\")\n",
    "plt.xlabel(\"Måling nr #\")\n",
    "plt.legend()\n",
    "plt.show()\n",
    "#params = 0.001"
   ]
  },
  {
   "cell_type": "markdown",
   "id": "6e6c4133",
   "metadata": {},
   "source": [
    "<div class=\"alert alert-block alert-info\">\n",
    "<h2> Diskusjonsoppgave</h2>\n",
    "<p>Hvordan endret modellen seg som følge av treningen? Ble prediksjonen i de tre første treningspunktene bedre eller dårligere? Hva med variansen?</p>\n",
    "</div>"
   ]
  },
  {
   "cell_type": "markdown",
   "id": "63cbaf86",
   "metadata": {},
   "source": [
    "---\n",
    "\n",
    "## 3. Prediksjon\n",
    "\n",
    "Å gjøre en prediksjon betyr å forutsi noe ukjent basert på det vi allerede vet. Når modellen er trent er den i prinsippet i stand til å forutsi utfallet av målinger utenfor de målepunktene vi har lagt inn i datasettet med en viss grad av sikkerhet. \n",
    "\n",
    "Ettersom prediksjoner fra modellen produseres langt mer effektivt enn ekte eksperimenter i laboratoriet, kan vi be modellen om å forutsi hvilke målevariabler som gir forventet laveste måleresultater. (Merk at vi kan også finne maksimum, men slik koden er skrevet må vi i så fall sende inn resultatene multiplisert med en faktor på $-1$.)\n",
    "\n",
    "For å gjøre dette må vi først velge et område hvor vi vil søke etter et minimum. Velg først noen øvre og nedre terskelverdier, gjerne over og under de grensene vi valgte for å avgrense målingene våre (det kan tenkes at optimeringen foreslår en måling utenfor området vårt):"
   ]
  },
  {
   "cell_type": "code",
   "execution_count": null,
   "id": "44262ec4",
   "metadata": {},
   "outputs": [],
   "source": [
    "# øvre og nedre terskelverdier for målevariablene (optimeringen vil ikke søke utenfor dette området)\n",
    "bounds = np.array([[-2,-2,-2],[2,2,2]])"
   ]
  },
  {
   "cell_type": "markdown",
   "id": "69c23295",
   "metadata": {},
   "source": [
    "Deretter velger vi et startgjett for optimeringen og søker oss frem til (formodentlig nærmeste) minimum fra dette:"
   ]
  },
  {
   "cell_type": "code",
   "execution_count": null,
   "id": "08308aff",
   "metadata": {},
   "outputs": [],
   "source": [
    "\n",
    "# velg et sted å starte søket fra\n",
    "guess = målinger[np.argmax(resultater)]\n",
    "\n",
    "# prediker et minimum\n",
    "opt, optfun, suc = gpr.predict_sample_optimum( guess,  xi = .03, bounds = bounds )\n",
    "\n",
    "# xi = \"utforskningsparameter\" - hvor mye algoritmen søker seg ut fra kjente områder\n",
    "# opt = målepunktet for det predikerte minimumet\n",
    "# optfun = funksjonsverdien i dette punktet\n",
    "# suc = 0 hvis optimeringen ikke konvergerte, 1 ellers\n",
    "\n",
    "# vis prediksjonen (og variansen) i punktet\n",
    "gpr.predict(opt.reshape(-1,3), return_variance = True)"
   ]
  },
  {
   "cell_type": "markdown",
   "id": "b1f5c5d6",
   "metadata": {},
   "source": [
    "Det kan være flere minimum i modellen. Derfor lønner det seg å søke litt rundt, for eksempel ved å endre \"utforskningsparameteren\" `xi`, eller startgjettet `guess`. XDAI har en funksjon som automatiserer slike søk:"
   ]
  },
  {
   "cell_type": "code",
   "execution_count": null,
   "id": "f3e5962d",
   "metadata": {
    "scrolled": false
   },
   "outputs": [],
   "source": [
    "e = xdai.process.acquire_model_optimas(gpr)\n",
    "\n",
    "for i in e:\n",
    "    print(\"%.2f. %.2f %.2f %.2e %.2e\" % (i[0], i[1], i[2], i[3], i[4]))"
   ]
  },
  {
   "cell_type": "markdown",
   "id": "c136eb11",
   "metadata": {},
   "source": [
    "<div class=\"alert alert-block alert-info\">\n",
    "<h2> Oppgave</h2>\n",
    "<p>Søk litt rundt i funksjonen selv ved å endre startgjette `guess` og utforskningsparameteren `xi`. Kan du finne andre minimum? Finner du områder hvor algoritmen ikke konvergerer?</p>\n",
    "</div>"
   ]
  },
  {
   "cell_type": "markdown",
   "id": "32047903",
   "metadata": {},
   "source": [
    "---\n",
    "\n",
    "## 4. Fortolkning\n",
    "\n",
    "Vi har nå planglagt og gjennomført et sett målinger, tilpasset en modell til disse målingene, og benyttet modellen til å predikere en optimal måling. Har vi funnet et minimum? Den eneste måten å virkelig teste dette på er å gjennomføre den faktiske målingen i dette punktet. Samtidig er det viktig å dokumentere resultater og fremgangsmåte, slik at andre kan reprodusere arbeidet vårt.\n",
    "\n",
    "Vi kan benytte `xdai.process.data_projection` for å gi en visuell fremstilling av minimumet vi har funnet:"
   ]
  },
  {
   "cell_type": "code",
   "execution_count": null,
   "id": "84ea2cda",
   "metadata": {},
   "outputs": [],
   "source": [
    "fig, axs = plt.subplots(1, 3, figsize=(9, 3), sharey=True)\n",
    "\n",
    "x,y = xdai.process.data_projection(gpr, axes = [0], resolution = 50, center = e[0][:3])\n",
    "\n",
    "\n",
    "axs[0].plot(x[0],y)\n",
    "axs[0].set_xlabel(\"Målevariabel 1\")\n",
    "x,y = xdai.process.data_projection(gpr, axes = [1], resolution = 50, center = e[0][:3])\n",
    "\n",
    "\n",
    "axs[1].plot(x[0], y)\n",
    "axs[1].set_xlabel(\"Målevariabel 2\")\n",
    "\n",
    "\n",
    "x,y = xdai.process.data_projection(gpr, axes = [2], resolution = 50, center = e[0][:3])\n",
    "\n",
    "axs[2].plot(x[0], y)\n",
    "axs[2].set_xlabel(\"Målevariabel 3\")\n",
    "axs[0].set_ylabel(\"Prediksjon\")\n",
    "\n",
    "plt.show()"
   ]
  },
  {
   "cell_type": "markdown",
   "id": "8c8fd900",
   "metadata": {},
   "source": [
    "Figurene over viser hvordan modellen endrer seg når vi holde to målevariabler fast i minimumet, og lar en målevariabel endre seg som angitt på x-aksen. \n",
    "\n",
    "Vi bør også notere oss ned alle måledata og resultater:"
   ]
  },
  {
   "cell_type": "code",
   "execution_count": null,
   "id": "2f7836d7",
   "metadata": {},
   "outputs": [],
   "source": [
    "print(\" Optimized minimum:\", e)\n",
    "\n",
    "xdai.designer.html_table( np.append(målinger.T, resultater).reshape(-1,15).T, \n",
    "                         rows = np.arange(1,len(målinger)+1), \n",
    "                         columns = [\"Måling nummer\", \n",
    "                                    \"Målevariabel 1\", \n",
    "                                    \"Målevariabel 2\",\n",
    "                                    \"Målevariabel 3\", \n",
    "                                    \"Resultater\"])"
   ]
  },
  {
   "cell_type": "markdown",
   "id": "d8748ff4",
   "metadata": {},
   "source": [
    "I tillegg bør vi lagre parametrene vi har benyttet i modellen:"
   ]
  },
  {
   "cell_type": "code",
   "execution_count": null,
   "id": "125f0ec9",
   "metadata": {},
   "outputs": [],
   "source": [
    "print(\"Bounds for optimization:\")\n",
    "print(bounds)\n",
    "print(\" \")\n",
    "print(\"Model length parameters:\")\n",
    "print(optimale_parametre)\n",
    "print(\" \")\n",
    "print(\"Model length parameters:\")\n",
    "print(optimale_parametre)\n"
   ]
  },
  {
   "cell_type": "markdown",
   "id": "1b8d9463",
   "metadata": {},
   "source": [
    "Alle disse opplysningene skal være med i rapporten din."
   ]
  },
  {
   "cell_type": "markdown",
   "id": "592dd4c3",
   "metadata": {},
   "source": [
    "<div class=\"alert alert-block alert-info\">\n",
    "<h2> Diskusjon</h2>\n",
    "<p>Hva viser de tre kurvene vi produserte over egentlig? Er dette nok informasjon til å slå fast at det forekommer et minimum i funksjonen i dette området?</p>\n",
    "</div>"
   ]
  }
 ],
 "metadata": {
  "kernelspec": {
   "display_name": "Python 3 (ipykernel)",
   "language": "python",
   "name": "python3"
  },
  "language_info": {
   "codemirror_mode": {
    "name": "ipython",
    "version": 3
   },
   "file_extension": ".py",
   "mimetype": "text/x-python",
   "name": "python",
   "nbconvert_exporter": "python",
   "pygments_lexer": "ipython3",
   "version": "3.10.6"
  }
 },
 "nbformat": 4,
 "nbformat_minor": 5
}
