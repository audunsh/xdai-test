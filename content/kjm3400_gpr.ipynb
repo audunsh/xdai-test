{
 "cells": [
  {
   "cell_type": "markdown",
   "id": "c5fd97ea",
   "metadata": {},
   "source": [
    "## Bayesiansk optimering \n",
    "\n",
    "**Hvordan får vi mest mulig informasjon ut av et eksperiment med færrest mulig målinger? Dette er et omfattende og komplisert problem, men vi skal i denne notebooken lære å bruke en metode som har gitt lovende resultater de siste årene.**\n",
    "\n",
    "Moderne maskinlærings(ML)-teknikker er gjerne basert på store **datasett**, bestående av \"inn-data\" i form av **målinger** (innen ML typisk kalt \"features\") med tilhørende \"ut-data\" i form av **resultater** (innen ML gjerne kalt \"labels\" eller \"targets\"). Innen den ML-teknikken som kalles \"supervised learning\" er målet å trene en **modell** så den kan gjøre **prediksjoner** i samsvar med datasettet. Du har kanskje vært borti dette før gjennom lineær regresjon, hvor modellen er et polynom.\n",
    "\n",
    "<div>\n",
    "    <img src=\"regression_model_3.png\" width = 60%>\n",
    "    <center>Maskinlæring: et datasett med målinger og resultater brukes for å lære opp en modell på datamaskinen.</center>\n",
    "</div>\n",
    "\n",
    "Eksperimenter kan imidlertid være tids- og arbeidskrevende, og vi har ikke alltid tilgang på store datasett. I tillegg kan det være en utfordring at vi ikke har forutsetning for å anta noe om den matematiske formen på resultatene. I slike tilfeller passer det å benytte noe som kalles **Gaussiske prosesser** (GP) som modell. Om vi benytter GP for å predikere et maksimum (topp- eller bunnpunkt) i målingene kalles dette for **Bayesiansk optimering** (BO). En fordel med denne metoden er at den kan ta måleusikkerhet med i betraktningen.\n",
    "\n",
    "I denne notebooken vil du lære deg å bruke Python-modulen <a href=\"\">B-tjenesten/xdai</a> til å\n",
    "1. Planlegge målingene dine. (eksperimentell design)\n",
    "2. Tilpasse en Gaussisk prosess regressor (GPR) til datasettet ditt. (regresjon)\n",
    "3. Predikere en måling for optimalt resultat. (Bayesiansk optimering)\n",
    "4. Fortolke og fremstille resultatene visuelt.\n",
    "\n",
    "Målet er å gjøre deg i stand til å finne optimale målepunkter for et bredt utvalg problemstillinger. Husk imidlertid at maskinlæringsmetoder ikke kan bli bedre enn de datasettene vi mater algoritmen med, så godt håndtverk og kritisk sans er avgjørende for å oppnå gode resultater."
   ]
  },
  {
   "cell_type": "markdown",
   "id": "87bf69f6",
   "metadata": {},
   "source": [
    "<div class=\"alert alert-block alert-info\">\n",
    "    <h2> Diskusjonsoppgaver</h2>\n",
    "<ul>    \n",
    " <li>Gi 3 eksempler på \"inn-data\" og \"ut-data\". </li>\n",
    "<li>Hva menes med \"å predikere et maksimum i målingene\"? </li>\n",
    "<li>Hva innebærer det å optimere noe? Kan du gi noen eksempler på optimering generelt?</li>\n",
    "<li>Kan du tenke deg noen tilfeller hvor du kan anta noe om formen på den matematiske formen på resultatene?</li>\n",
    "<li>Kan du tenke deg noen tilfeller hvor du ikke kan anta noe om denne formen?</li>\n",
    "<li>Hva legger du i å \"lære opp en modell på datamaskinen\"? Hvordan tror du dette gjøres i praksis?</li>\n",
    "    </ul>\n",
    "</div>\n"
   ]
  },
  {
   "cell_type": "code",
   "execution_count": 8,
   "id": "01c9d511",
   "metadata": {},
   "outputs": [],
   "source": [
    "import xdai \n",
    "import numpy as np"
   ]
  },
  {
   "cell_type": "code",
   "execution_count": 7,
   "id": "71e288a3",
   "metadata": {},
   "outputs": [
    {
     "data": {
      "application/vnd.jupyter.widget-view+json": {
       "model_id": "497bf79ef451448ea1db26f1bb650da0",
       "version_major": 2,
       "version_minor": 0
      },
      "text/plain": [
       "MDView(bg_color=[1.0, 1.0, 1.0], box=[1.399999976158142, 1.7999999523162842], colors=b'\\xdc8\\xb3>\\xdb\\xb9m?m\\x…"
      ]
     },
     "execution_count": 7,
     "metadata": {},
     "output_type": "execute_result"
    }
   ],
   "source": [
    "import numpy as np\n",
    "\n",
    "\n",
    "def visualize_doe_grid(doe_grid_):\n",
    "    import evince as ev\n",
    "    \n",
    "    class doe_box():\n",
    "        def __init__(self, doe_grid_):\n",
    "            self.pos = np.array(doe_grid_[:, 1:].T, dtype = np.float32)\n",
    "            self.n_bubbles = self.pos.shape[1]\n",
    "            self.size = np.max(self.pos, axis = 1)\n",
    "            self.masses = np.ones(self.pos.shape[1])*.1\n",
    "        \n",
    "    return ev.MDView(doe_box(doe_grid_))\n",
    "\n",
    "\n",
    "doe_grid_ = xdai.designer.doe_grid([[-1,1], [-1.4,1.4], [-1.8, 1.8]], design = 2)\n",
    "\n",
    "visualize_doe_grid(doe_grid_)"
   ]
  },
  {
   "cell_type": "code",
   "execution_count": 9,
   "id": "69bc9561",
   "metadata": {},
   "outputs": [
    {
     "ename": "NameError",
     "evalue": "name 'grid' is not defined",
     "output_type": "error",
     "traceback": [
      "\u001b[0;31m---------------------------------------------------------------------------\u001b[0m",
      "\u001b[0;31mNameError\u001b[0m                                 Traceback (most recent call last)",
      "Cell \u001b[0;32mIn[9], line 1\u001b[0m\n\u001b[0;32m----> 1\u001b[0m all_y \u001b[38;5;241m=\u001b[39m np\u001b[38;5;241m.\u001b[39mrandom\u001b[38;5;241m.\u001b[39muniform(\u001b[38;5;241m-\u001b[39m\u001b[38;5;241m1\u001b[39m,\u001b[38;5;241m1\u001b[39m,\u001b[43mgrid\u001b[49m\u001b[38;5;241m.\u001b[39mshape[\u001b[38;5;241m0\u001b[39m])\n\u001b[1;32m      2\u001b[0m all_x \u001b[38;5;241m=\u001b[39m grid\n\u001b[1;32m      3\u001b[0m gprr \u001b[38;5;241m=\u001b[39m xdai\u001b[38;5;241m.\u001b[39mgpr\u001b[38;5;241m.\u001b[39mRegressor(all_x, all_y, measurement_standard_deviation\u001b[38;5;241m=\u001b[39m\u001b[38;5;241m0.1\u001b[39m)\n",
      "\u001b[0;31mNameError\u001b[0m: name 'grid' is not defined"
     ]
    }
   ],
   "source": [
    "all_y = np.random.uniform(-1,1,grid.shape[0])\n",
    "all_x = grid\n",
    "gprr = xdai.gpr.Regressor(all_x, all_y, measurement_standard_deviation=0.1)\n",
    "gprr.predict(np.random.uniform(-1,1,3))"
   ]
  },
  {
   "cell_type": "markdown",
   "id": "fab72a11",
   "metadata": {},
   "source": [
    "## 1. Planlegg og gjennomfør målingene\n",
    "\n",
    "Anta at du ønsker å finne en optimal sammensetning av målevariablene $\\mathbf{x}_*$ som inngår i et eksperiment, for eksempel temperatur, trykk, konsentrasjoner, varighet og lignende. Anta også at det tar litt tid å gjennomføre hvert eksperiment, så du vil unngå å gjøre for mange.\n",
    "\n",
    "Det et er lite effektivt (og kanskje umulig) å sjekke *alle mulige målinger* $\\{\\mathbf{x}\\}$. Det vi heller ønsker er å gjøre noen få målinger, og basert på disse lage oss et kart over hvor den optimale målingen mest sannsynlig befinner seg. \n",
    "\n",
    "Vi trenger i dette tilfellet å planlegge et sett målinger som vi håper at vil gi oss best mulig informasjon om hvordan systemet oppfører seg. Slik planlegging kalles **eksperimentell design**. Sannsynligvis har du noen forkunnskaper om hvor den optimale målingen befinner seg, så det er hensiktsmessig å velge et målområde avgrenset av nedre og øvre terskelverdier i målevariablene. \n",
    "\n",
    "I en dimensjon er dette enkelt. Forestill deg for eksempel at du skal finne en optimal temperatur for veksten av en bakteriekultur. Du antar at bakteriene trives best ved romtemperatur, så du velger et måleintervall mellom 10 og 30 grader Celsius. Deretter gjør du målinger av vekstraten for 10 grader, 30 grader og kanskje for 20 grader (i midten av intervallet ditt). \n",
    "\n",
    "Det finnes flere ulike teknikker for å designe et eksperiment (se for eksempel <a href=\"https://www.itl.nist.gov/div898/handbook/pri/section5/pri5.htm\">her</a>). Vi skal benytte det som kalles et Box-Behnken design [] som minner om eksempelet i en dimensjon over, bare at det gjøres i tre dimensjoner."
   ]
  },
  {
   "cell_type": "code",
   "execution_count": 8,
   "id": "e0ef64d1",
   "metadata": {},
   "outputs": [
    {
     "data": {
      "text/html": [
       "<table>\n",
       "<tr>\n",
       "<th></th>\n",
       "<th>1.0</th>\n",
       "<th>0.0</th>\n",
       "<th>0.0</th>\n",
       "<th>0.0</th>\n",
       "</tr>\n",
       "<tr>\n",
       "<th></th>\n",
       "<th>2.0</th>\n",
       "<th>0.0</th>\n",
       "<th>0.0</th>\n",
       "<th>0.0</th>\n",
       "</tr>\n",
       "<tr>\n",
       "<th></th>\n",
       "<th>3.0</th>\n",
       "<th>0.0</th>\n",
       "<th>0.0</th>\n",
       "<th>0.0</th>\n",
       "</tr>\n",
       "<tr>\n",
       "<th></th>\n",
       "<th>4.0</th>\n",
       "<th>-1.0</th>\n",
       "<th>-1.0</th>\n",
       "<th>0.0</th>\n",
       "</tr>\n",
       "<tr>\n",
       "<th></th>\n",
       "<th>5.0</th>\n",
       "<th>0.0</th>\n",
       "<th>-1.0</th>\n",
       "<th>-1.0</th>\n",
       "</tr>\n",
       "<tr>\n",
       "<th></th>\n",
       "<th>6.0</th>\n",
       "<th>0.0</th>\n",
       "<th>-1.0</th>\n",
       "<th>1.0</th>\n",
       "</tr>\n",
       "<tr>\n",
       "<th></th>\n",
       "<th>7.0</th>\n",
       "<th>1.0</th>\n",
       "<th>-1.0</th>\n",
       "<th>0.0</th>\n",
       "</tr>\n",
       "<tr>\n",
       "<th></th>\n",
       "<th>8.0</th>\n",
       "<th>-1.0</th>\n",
       "<th>0.0</th>\n",
       "<th>-1.0</th>\n",
       "</tr>\n",
       "<tr>\n",
       "<th></th>\n",
       "<th>9.0</th>\n",
       "<th>-1.0</th>\n",
       "<th>0.0</th>\n",
       "<th>1.0</th>\n",
       "</tr>\n",
       "<tr>\n",
       "<th></th>\n",
       "<th>10.0</th>\n",
       "<th>1.0</th>\n",
       "<th>0.0</th>\n",
       "<th>-1.0</th>\n",
       "</tr>\n",
       "<tr>\n",
       "<th></th>\n",
       "<th>11.0</th>\n",
       "<th>1.0</th>\n",
       "<th>0.0</th>\n",
       "<th>1.0</th>\n",
       "</tr>\n",
       "<tr>\n",
       "<th></th>\n",
       "<th>12.0</th>\n",
       "<th>-1.0</th>\n",
       "<th>1.0</th>\n",
       "<th>0.0</th>\n",
       "</tr>\n",
       "<tr>\n",
       "<th></th>\n",
       "<th>13.0</th>\n",
       "<th>0.0</th>\n",
       "<th>1.0</th>\n",
       "<th>-1.0</th>\n",
       "</tr>\n",
       "<tr>\n",
       "<th></th>\n",
       "<th>14.0</th>\n",
       "<th>0.0</th>\n",
       "<th>1.0</th>\n",
       "<th>1.0</th>\n",
       "</tr>\n",
       "<tr>\n",
       "<th></th>\n",
       "<th>15.0</th>\n",
       "<th>1.0</th>\n",
       "<th>1.0</th>\n",
       "<th>0.0</th>\n",
       "</tr>\n",
       "</table>\n"
      ],
      "text/plain": [
       "<IPython.core.display.HTML object>"
      ]
     },
     "execution_count": 8,
     "metadata": {},
     "output_type": "execute_result"
    }
   ],
   "source": [
    "målinger = doe_grid([[-1,1], [-1,1], [-1,1]], design = 2)\n",
    "\n",
    "html_table(målinger)"
   ]
  },
  {
   "cell_type": "code",
   "execution_count": null,
   "id": "7fb73b85",
   "metadata": {},
   "outputs": [],
   "source": [
    "visualize_doe_grid()"
   ]
  },
  {
   "cell_type": "markdown",
   "id": "63cbaf86",
   "metadata": {},
   "source": [
    "## 2. Regresjon\n",
    "\n",
    "\n"
   ]
  }
 ],
 "metadata": {
  "kernelspec": {
   "display_name": "Python 3 (ipykernel)",
   "language": "python",
   "name": "python3"
  },
  "language_info": {
   "codemirror_mode": {
    "name": "ipython",
    "version": 3
   },
   "file_extension": ".py",
   "mimetype": "text/x-python",
   "name": "python",
   "nbconvert_exporter": "python",
   "pygments_lexer": "ipython3",
   "version": "3.10.6"
  }
 },
 "nbformat": 4,
 "nbformat_minor": 5
}
