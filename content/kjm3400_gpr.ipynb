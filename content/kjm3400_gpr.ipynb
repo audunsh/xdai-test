{
 "cells": [
  {
   "cell_type": "code",
   "execution_count": null,
   "id": "9b9c1e35",
   "metadata": {},
   "outputs": [],
   "source": [
    "%pip install -q xdai #installer modulen"
   ]
  },
  {
   "cell_type": "markdown",
   "id": "4bafee44",
   "metadata": {},
   "source": [
    "<img src=\"gpr_vis_9.png\" width = 100%>"
   ]
  },
  {
   "cell_type": "markdown",
   "id": "c5fd97ea",
   "metadata": {},
   "source": [
    "# Med kunstig intelligens som labpartner\n",
    "\n",
    "<a href=\"https://hazelbright.github.io/xdai\">XDAI</a> og dette dokumentet er utviklet av Audun Skau Hansen, Stian Kogler, Hanne Røberg-Larsen, Steven H. R. Wilson, Elias Dalan, Ayla S. Coder, Hanan Gharayba og Maren H.S. Johnsen ved Universitetet i Oslo, våren 2023.\n",
    "\n",
    "---\n",
    "\n",
    "**Hvordan får vi mest mulig informasjon ut av et eksperiment med færrest mulig målinger? La oss se på en mulig fremgangsmåte som vil kunne hjelpe deg å løse dette problemet.**\n",
    "\n",
    "Moderne maskinlærings(ML)-teknikker er gjerne basert på store **datasett**, bestående av \"inn-data\" i form av **målinger** (innen ML typisk kalt \"features\") med tilhørende \"ut-data\" i form av **resultater** (innen ML gjerne kalt \"labels\" eller \"targets\"). En ML-teknikk som kalles \"supervised learning\" har som mål å trene en **modell** så den kan gjøre **prediksjoner** i samsvar med datasettet. Du har kanskje vært borti dette før gjennom lineær regresjon, hvor modellen er et polynom.\n",
    "\n",
    "<p></p>\n",
    "<div>\n",
    "    <img src=\"regression_model_4.png\" width = 60%>\n",
    "    <center>Maskinlæring: et datasett med målinger og resultater brukes for å lære opp en modell på datamaskinen.</center>\n",
    "</div>\n",
    "<p></p>\n",
    "<p></p>\n",
    "\n"
   ]
  },
  {
   "cell_type": "markdown",
   "id": "2edf149f",
   "metadata": {},
   "source": [
    "## Bayesiansk optimering\n",
    "\n",
    "Eksperimenter kan imidlertid være tids- og arbeidskrevende, og vi har ikke alltid tilgang på store datasett. I tillegg kan det være en utfordring at vi ikke har forutsetning for å anta noe om den matematiske formen på resultatene. I slike tilfeller passer det å benytte noe som kalles **Gaussiske prosesser** (GP) som modell. Om vi benytter GP for å predikere et maksimum (topp- eller bunnpunkt) i målingene kalles dette for **Bayesiansk optimering** (BO). \n",
    "\n",
    "En fordel med denne metoden er at den kan ta måleusikkerhet med i betraktningen, noe som gjør den spesielt godt egnet til vårt formål.\n",
    "\n",
    "Om du ønsker en mer detaljert introduksjon til Bayesiansk optimering kan vi anbefale følgende ressurser:"
   ]
  },
  {
   "cell_type": "markdown",
   "id": "ca7707a9",
   "metadata": {},
   "source": [
    "## Mål for denne notebooken\n",
    "\n",
    "Denne notebooken vil lære deg å bruke den studentutviklede Python-modulen <a href=\"\">XDAI</a> som støtte i ditt eksperimentelle arbeid. Notebooken er delt inn i fire deler:\n",
    "1. **Eksperimentell design:**  planlegge målingene dine.\n",
    "2. **Regresjon:** Tilpasse en Gaussisk prosess regressor (GPR) til datasettet ditt.\n",
    "3. **Prediksjon:** Predikere en måling for optimalt resultat. (Bayesiansk optimering)\n",
    "4. **Fortolkning** Visualisering av resultater.\n",
    "\n",
    "Målet er å gjøre deg i stand til å finne optimale målepunkter for et bredt utvalg problemstillinger. Husk imidlertid at maskinlæringsmetoder ikke kan bli bedre enn de datasettene vi trener algoritmen på, så presise målinger og kritisk refleksjon rundt resultatene er avgjørende for å oppnå gode resultater."
   ]
  },
  {
   "cell_type": "markdown",
   "id": "87bf69f6",
   "metadata": {},
   "source": [
    "<div class=\"alert alert-block alert-info\">\n",
    "    <h2> Diskusjonsoppgaver</h2>\n",
    "<ul>    \n",
    " <li>Gi 3 eksempler på \"inn-data\" og \"ut-data\" (fra eksperiment, statistikk eller hverdagen) </li>\n",
    "<li>Hvordan tolker du det å \"predikere et maksimum i målingene\"? </li>\n",
    "<li>Hva innebærer det å optimere noe? Kan du gi noen eksempler på optimering? (hverdagslig eller vitenskapelig)</li>\n",
    "<li>Kan du tenke deg tilfeller hvor du kan anta noe om formen på den matematiske formen på resultatene?</li>\n",
    "<li>Kan du tenke deg tilfeller hvor du ikke kan anta noe om denne formen?</li>\n",
    "<li>Hva legger du i det å \"lære opp en modell på datamaskinen\"? Hvordan tror du dette gjøres i praksis?</li>\n",
    "    </ul>\n",
    "</div>\n"
   ]
  },
  {
   "cell_type": "markdown",
   "id": "fab72a11",
   "metadata": {},
   "source": [
    "## 1. **Eksperimentell design:** å planlegge målinger\n",
    "\n",
    "Forestill deg at du vil finne en optimal sammensetning av målevariablene $\\mathbf{x}_*$ som inngår i et eksperiment (for eksempel temperatur, trykk, konsentrasjoner, varighet og lignende). Hver måling er tidkrevende, så du ønsker å gjøre så få målinger som mulig. \n",
    "\n",
    "Du planlegger derfor et begrenset antall målinger i et område hvor du tror at den optimale sammensetningen befinner seg. Fra disse målingene vil du estimere en mer eksakt plassering av optimum. \n",
    "\n",
    "Det å planlegge disse målingene kalles **eksperimentell design**. Vi kommer i det følgende til å avgrense måleområdet med nedre og øvre terskelverdier i målevariablene. \n",
    "\n",
    "I en dimensjon er dette enkelt. Forestill deg for eksempel at du skal finne en optimal temperatur for veksten av en bakteriekultur. Du antar at bakteriene trives best ved romtemperatur, så du velger et måleintervall mellom 10 og 30 grader Celsius. Deretter gjør du målinger av vekstraten for 10 grader, 30 grader og kanskje for 20 grader (i midten av intervallet ditt). \n",
    "\n",
    "I det følgende bruker vi <a href=\"\">XDAI</a> til å sette opp 1 og 2 dimensjoner. Du skal selve sette opp 3 dimensjoner.\n"
   ]
  },
  {
   "cell_type": "code",
   "execution_count": 1,
   "id": "830b2a3e",
   "metadata": {},
   "outputs": [
    {
     "data": {
      "text/html": [
       "<table>\n",
       "<tr>\n",
       "<th></th>\n",
       "<th>20.0</th>\n",
       "</tr>\n",
       "<tr>\n",
       "<th></th>\n",
       "<th>20.0</th>\n",
       "</tr>\n",
       "<tr>\n",
       "<th></th>\n",
       "<th>20.0</th>\n",
       "</tr>\n",
       "<tr>\n",
       "<th></th>\n",
       "<th>10.0</th>\n",
       "</tr>\n",
       "<tr>\n",
       "<th></th>\n",
       "<th>30.0</th>\n",
       "</tr>\n",
       "</table>\n"
      ],
      "text/plain": [
       "<IPython.core.display.HTML object>"
      ]
     },
     "execution_count": 1,
     "metadata": {},
     "output_type": "execute_result"
    }
   ],
   "source": [
    "import xdai\n",
    "\n",
    "limits = [[10,30]]\n",
    "\n",
    "grid_1d = xdai.designer.doe_grid( limits )\n",
    "\n",
    "xdai.designer.html_table( grid_1d ) # display 1d table nicely formatted in noteobok"
   ]
  },
  {
   "cell_type": "code",
   "execution_count": 20,
   "id": "05ad65c2",
   "metadata": {},
   "outputs": [
    {
     "data": {
      "text/html": [
       "<table>\n",
       "<tr>\n",
       "<th></th>\n",
       "<th>20.0</th>\n",
       "<th>0.5</th>\n",
       "</tr>\n",
       "<tr>\n",
       "<th></th>\n",
       "<th>20.0</th>\n",
       "<th>0.5</th>\n",
       "</tr>\n",
       "<tr>\n",
       "<th></th>\n",
       "<th>20.0</th>\n",
       "<th>0.5</th>\n",
       "</tr>\n",
       "<tr>\n",
       "<th></th>\n",
       "<th>10.0</th>\n",
       "<th>0.0</th>\n",
       "</tr>\n",
       "<tr>\n",
       "<th></th>\n",
       "<th>30.0</th>\n",
       "<th>0.0</th>\n",
       "</tr>\n",
       "<tr>\n",
       "<th></th>\n",
       "<th>10.0</th>\n",
       "<th>1.0</th>\n",
       "</tr>\n",
       "<tr>\n",
       "<th></th>\n",
       "<th>30.0</th>\n",
       "<th>1.0</th>\n",
       "</tr>\n",
       "</table>\n"
      ],
      "text/plain": [
       "<IPython.core.display.HTML object>"
      ]
     },
     "execution_count": 20,
     "metadata": {},
     "output_type": "execute_result"
    }
   ],
   "source": [
    "limits = [[10,30], [0,1]]\n",
    "\n",
    "grid_1d = xdai.designer.doe_grid( limits )\n",
    "\n",
    "xdai.designer.html_table( grid_1d ) # display 2d table nicely formatted in noteobok"
   ]
  },
  {
   "cell_type": "code",
   "execution_count": 21,
   "id": "cca2fa54",
   "metadata": {},
   "outputs": [
    {
     "ename": "ValueError",
     "evalue": "x and y arrays must be equal in length along interpolation axis.",
     "output_type": "error",
     "traceback": [
      "\u001b[0;31m---------------------------------------------------------------------------\u001b[0m",
      "\u001b[0;31mValueError\u001b[0m                                Traceback (most recent call last)",
      "Cell \u001b[0;32mIn[21], line 3\u001b[0m\n\u001b[1;32m      1\u001b[0m limits \u001b[38;5;241m=\u001b[39m [ \u001b[38;5;241m.\u001b[39m\u001b[38;5;241m.\u001b[39m\u001b[38;5;241m.\u001b[39m ]\n\u001b[0;32m----> 3\u001b[0m grid_1d \u001b[38;5;241m=\u001b[39m \u001b[43mxdai\u001b[49m\u001b[38;5;241;43m.\u001b[39;49m\u001b[43mdesigner\u001b[49m\u001b[38;5;241;43m.\u001b[39;49m\u001b[43mdoe_grid\u001b[49m\u001b[43m(\u001b[49m\u001b[43m \u001b[49m\u001b[43mlimits\u001b[49m\u001b[43m \u001b[49m\u001b[43m)\u001b[49m\n\u001b[1;32m      5\u001b[0m xdai\u001b[38;5;241m.\u001b[39mdesigner\u001b[38;5;241m.\u001b[39mhtml_table( grid_1d ) \u001b[38;5;66;03m# display 1d table nicely formatted in noteobok\u001b[39;00m\n",
      "File \u001b[0;32m/usr/local/lib/python3.10/site-packages/xdai/designer.py:92\u001b[0m, in \u001b[0;36mdoe_grid\u001b[0;34m(factor_limits, design, n_center, n_blocks)\u001b[0m\n\u001b[1;32m     71\u001b[0m \u001b[38;5;250m\u001b[39m\u001b[38;5;124;03m\"\"\"\u001b[39;00m\n\u001b[1;32m     72\u001b[0m \u001b[38;5;124;03mSet up a Design of Experiment grid\u001b[39;00m\n\u001b[1;32m     73\u001b[0m \u001b[38;5;124;03m(excluding center points)\u001b[39;00m\n\u001b[0;32m   (...)\u001b[0m\n\u001b[1;32m     88\u001b[0m \u001b[38;5;124;03mA numpy array containing the sample points\u001b[39;00m\n\u001b[1;32m     89\u001b[0m \u001b[38;5;124;03m\"\"\"\u001b[39;00m\n\u001b[1;32m     91\u001b[0m indx \u001b[38;5;241m=\u001b[39m hypercube_design(\u001b[38;5;28mlen\u001b[39m(factor_limits), \u001b[38;5;241m-\u001b[39m\u001b[38;5;241m1\u001b[39m\u001b[38;5;241m*\u001b[39mdesign)\n\u001b[0;32m---> 92\u001b[0m values \u001b[38;5;241m=\u001b[39m \u001b[43minterp1d\u001b[49m\u001b[43m(\u001b[49m\u001b[43m[\u001b[49m\u001b[38;5;241;43m0\u001b[39;49m\u001b[43m,\u001b[49m\u001b[38;5;241;43m1\u001b[39;49m\u001b[43m]\u001b[49m\u001b[43m,\u001b[49m\u001b[43m \u001b[49m\u001b[43mnp\u001b[49m\u001b[38;5;241;43m.\u001b[39;49m\u001b[43marray\u001b[49m\u001b[43m(\u001b[49m\u001b[43mfactor_limits\u001b[49m\u001b[43m)\u001b[49m\u001b[43m)\u001b[49m(np\u001b[38;5;241m.\u001b[39mlinspace(\u001b[38;5;241m0\u001b[39m,\u001b[38;5;241m1\u001b[39m,\u001b[38;5;241m3\u001b[39m))\n\u001b[1;32m     93\u001b[0m design_shape \u001b[38;5;241m=\u001b[39m np\u001b[38;5;241m.\u001b[39marray(indx\u001b[38;5;241m.\u001b[39mshape)\n\u001b[1;32m     94\u001b[0m design_shape[\u001b[38;5;241m0\u001b[39m] \u001b[38;5;241m+\u001b[39m\u001b[38;5;241m=\u001b[39m n_center\n",
      "File \u001b[0;32m/usr/local/lib/python3.10/site-packages/scipy/interpolate/_interpolate.py:491\u001b[0m, in \u001b[0;36minterp1d.__init__\u001b[0;34m(self, x, y, kind, axis, copy, bounds_error, fill_value, assume_sorted)\u001b[0m\n\u001b[1;32m    487\u001b[0m \u001b[38;5;28;01mdef\u001b[39;00m \u001b[38;5;21m__init__\u001b[39m(\u001b[38;5;28mself\u001b[39m, x, y, kind\u001b[38;5;241m=\u001b[39m\u001b[38;5;124m'\u001b[39m\u001b[38;5;124mlinear\u001b[39m\u001b[38;5;124m'\u001b[39m, axis\u001b[38;5;241m=\u001b[39m\u001b[38;5;241m-\u001b[39m\u001b[38;5;241m1\u001b[39m,\n\u001b[1;32m    488\u001b[0m              copy\u001b[38;5;241m=\u001b[39m\u001b[38;5;28;01mTrue\u001b[39;00m, bounds_error\u001b[38;5;241m=\u001b[39m\u001b[38;5;28;01mNone\u001b[39;00m, fill_value\u001b[38;5;241m=\u001b[39mnp\u001b[38;5;241m.\u001b[39mnan,\n\u001b[1;32m    489\u001b[0m              assume_sorted\u001b[38;5;241m=\u001b[39m\u001b[38;5;28;01mFalse\u001b[39;00m):\n\u001b[1;32m    490\u001b[0m \u001b[38;5;250m    \u001b[39m\u001b[38;5;124;03m\"\"\" Initialize a 1-D linear interpolation class.\"\"\"\u001b[39;00m\n\u001b[0;32m--> 491\u001b[0m     \u001b[43m_Interpolator1D\u001b[49m\u001b[38;5;241;43m.\u001b[39;49m\u001b[38;5;21;43m__init__\u001b[39;49m\u001b[43m(\u001b[49m\u001b[38;5;28;43mself\u001b[39;49m\u001b[43m,\u001b[49m\u001b[43m \u001b[49m\u001b[43mx\u001b[49m\u001b[43m,\u001b[49m\u001b[43m \u001b[49m\u001b[43my\u001b[49m\u001b[43m,\u001b[49m\u001b[43m \u001b[49m\u001b[43maxis\u001b[49m\u001b[38;5;241;43m=\u001b[39;49m\u001b[43maxis\u001b[49m\u001b[43m)\u001b[49m\n\u001b[1;32m    493\u001b[0m     \u001b[38;5;28mself\u001b[39m\u001b[38;5;241m.\u001b[39mbounds_error \u001b[38;5;241m=\u001b[39m bounds_error  \u001b[38;5;66;03m# used by fill_value setter\u001b[39;00m\n\u001b[1;32m    494\u001b[0m     \u001b[38;5;28mself\u001b[39m\u001b[38;5;241m.\u001b[39mcopy \u001b[38;5;241m=\u001b[39m copy\n",
      "File \u001b[0;32m/usr/local/lib/python3.10/site-packages/scipy/interpolate/_polyint.py:56\u001b[0m, in \u001b[0;36m_Interpolator1D.__init__\u001b[0;34m(self, xi, yi, axis)\u001b[0m\n\u001b[1;32m     54\u001b[0m \u001b[38;5;28mself\u001b[39m\u001b[38;5;241m.\u001b[39mdtype \u001b[38;5;241m=\u001b[39m \u001b[38;5;28;01mNone\u001b[39;00m\n\u001b[1;32m     55\u001b[0m \u001b[38;5;28;01mif\u001b[39;00m yi \u001b[38;5;129;01mis\u001b[39;00m \u001b[38;5;129;01mnot\u001b[39;00m \u001b[38;5;28;01mNone\u001b[39;00m:\n\u001b[0;32m---> 56\u001b[0m     \u001b[38;5;28;43mself\u001b[39;49m\u001b[38;5;241;43m.\u001b[39;49m\u001b[43m_set_yi\u001b[49m\u001b[43m(\u001b[49m\u001b[43myi\u001b[49m\u001b[43m,\u001b[49m\u001b[43m \u001b[49m\u001b[43mxi\u001b[49m\u001b[38;5;241;43m=\u001b[39;49m\u001b[43mxi\u001b[49m\u001b[43m,\u001b[49m\u001b[43m \u001b[49m\u001b[43maxis\u001b[49m\u001b[38;5;241;43m=\u001b[39;49m\u001b[43maxis\u001b[49m\u001b[43m)\u001b[49m\n",
      "File \u001b[0;32m/usr/local/lib/python3.10/site-packages/scipy/interpolate/_polyint.py:126\u001b[0m, in \u001b[0;36m_Interpolator1D._set_yi\u001b[0;34m(self, yi, xi, axis)\u001b[0m\n\u001b[1;32m    124\u001b[0m     shape \u001b[38;5;241m=\u001b[39m (\u001b[38;5;241m1\u001b[39m,)\n\u001b[1;32m    125\u001b[0m \u001b[38;5;28;01mif\u001b[39;00m xi \u001b[38;5;129;01mis\u001b[39;00m \u001b[38;5;129;01mnot\u001b[39;00m \u001b[38;5;28;01mNone\u001b[39;00m \u001b[38;5;129;01mand\u001b[39;00m shape[axis] \u001b[38;5;241m!=\u001b[39m \u001b[38;5;28mlen\u001b[39m(xi):\n\u001b[0;32m--> 126\u001b[0m     \u001b[38;5;28;01mraise\u001b[39;00m \u001b[38;5;167;01mValueError\u001b[39;00m(\u001b[38;5;124m\"\u001b[39m\u001b[38;5;124mx and y arrays must be equal in length along \u001b[39m\u001b[38;5;124m\"\u001b[39m\n\u001b[1;32m    127\u001b[0m                      \u001b[38;5;124m\"\u001b[39m\u001b[38;5;124minterpolation axis.\u001b[39m\u001b[38;5;124m\"\u001b[39m)\n\u001b[1;32m    129\u001b[0m \u001b[38;5;28mself\u001b[39m\u001b[38;5;241m.\u001b[39m_y_axis \u001b[38;5;241m=\u001b[39m (axis \u001b[38;5;241m%\u001b[39m yi\u001b[38;5;241m.\u001b[39mndim)\n\u001b[1;32m    130\u001b[0m \u001b[38;5;28mself\u001b[39m\u001b[38;5;241m.\u001b[39m_y_extra_shape \u001b[38;5;241m=\u001b[39m yi\u001b[38;5;241m.\u001b[39mshape[:\u001b[38;5;28mself\u001b[39m\u001b[38;5;241m.\u001b[39m_y_axis]\u001b[38;5;241m+\u001b[39myi\u001b[38;5;241m.\u001b[39mshape[\u001b[38;5;28mself\u001b[39m\u001b[38;5;241m.\u001b[39m_y_axis\u001b[38;5;241m+\u001b[39m\u001b[38;5;241m1\u001b[39m:]\n",
      "\u001b[0;31mValueError\u001b[0m: x and y arrays must be equal in length along interpolation axis."
     ]
    }
   ],
   "source": [
    "limits = [ ... ]\n",
    "\n",
    "grid_1d = xdai.designer.doe_grid( limits )\n",
    "\n",
    "xdai.designer.html_table( grid_1d ) # display 1d table nicely formatted in noteobok"
   ]
  },
  {
   "cell_type": "markdown",
   "id": "eae46972",
   "metadata": {},
   "source": [
    "### Box-Behnken design\n",
    "\n",
    "Det finnes flere ulike teknikker for å designe et eksperiment (se for eksempel <a href=\"https://www.itl.nist.gov/div898/handbook/pri/section5/pri5.htm\">her</a>). Vi skal benytte det som kalles et Box-Behnken design []. Du setter det opp i XDAI på følgende måte:"
   ]
  },
  {
   "cell_type": "code",
   "execution_count": 15,
   "id": "0458c727",
   "metadata": {},
   "outputs": [],
   "source": [
    "import xdai \n",
    "import numpy as np"
   ]
  },
  {
   "cell_type": "code",
   "execution_count": 32,
   "id": "71e288a3",
   "metadata": {},
   "outputs": [
    {
     "data": {
      "text/plain": [
       "array([[3.5 , 1.25],\n",
       "       [3.5 , 1.25],\n",
       "       [3.5 , 1.25],\n",
       "       [3.5 , 0.  ],\n",
       "       [0.  , 1.25],\n",
       "       [7.  , 1.25],\n",
       "       [3.5 , 2.5 ]])"
      ]
     },
     "execution_count": 32,
     "metadata": {},
     "output_type": "execute_result"
    }
   ],
   "source": [
    "import numpy as np\n",
    "\n",
    "limits = [ [0,7],[0 , 2.5]]\n",
    "\n",
    "bb_grid = xdai.designer.doe_grid(limits, design = 2) # design=2 gir et Box-Behnken design\n",
    "bb_grid"
   ]
  },
  {
   "cell_type": "markdown",
   "id": "bd7c719b",
   "metadata": {},
   "source": [
    "Du kan nå gjøre målingene som er vist i tabellen over. Om du bare vil leke deg litt med koden "
   ]
  },
  {
   "cell_type": "markdown",
   "id": "ee1dfdb0",
   "metadata": {},
   "source": [
    "## Prediksjon\n",
    "\n",
    "Å gjøre en prediksjon betyr å forutsi noe ukjent basert på det vi allerede vet. For å gjøre dette vil vi trene en "
   ]
  },
  {
   "cell_type": "code",
   "execution_count": 8,
   "id": "e0ef64d1",
   "metadata": {},
   "outputs": [
    {
     "data": {
      "text/html": [
       "<table>\n",
       "<tr>\n",
       "<th></th>\n",
       "<th>1.0</th>\n",
       "<th>0.0</th>\n",
       "<th>0.0</th>\n",
       "<th>0.0</th>\n",
       "</tr>\n",
       "<tr>\n",
       "<th></th>\n",
       "<th>2.0</th>\n",
       "<th>0.0</th>\n",
       "<th>0.0</th>\n",
       "<th>0.0</th>\n",
       "</tr>\n",
       "<tr>\n",
       "<th></th>\n",
       "<th>3.0</th>\n",
       "<th>0.0</th>\n",
       "<th>0.0</th>\n",
       "<th>0.0</th>\n",
       "</tr>\n",
       "<tr>\n",
       "<th></th>\n",
       "<th>4.0</th>\n",
       "<th>-1.0</th>\n",
       "<th>-1.0</th>\n",
       "<th>0.0</th>\n",
       "</tr>\n",
       "<tr>\n",
       "<th></th>\n",
       "<th>5.0</th>\n",
       "<th>0.0</th>\n",
       "<th>-1.0</th>\n",
       "<th>-1.0</th>\n",
       "</tr>\n",
       "<tr>\n",
       "<th></th>\n",
       "<th>6.0</th>\n",
       "<th>0.0</th>\n",
       "<th>-1.0</th>\n",
       "<th>1.0</th>\n",
       "</tr>\n",
       "<tr>\n",
       "<th></th>\n",
       "<th>7.0</th>\n",
       "<th>1.0</th>\n",
       "<th>-1.0</th>\n",
       "<th>0.0</th>\n",
       "</tr>\n",
       "<tr>\n",
       "<th></th>\n",
       "<th>8.0</th>\n",
       "<th>-1.0</th>\n",
       "<th>0.0</th>\n",
       "<th>-1.0</th>\n",
       "</tr>\n",
       "<tr>\n",
       "<th></th>\n",
       "<th>9.0</th>\n",
       "<th>-1.0</th>\n",
       "<th>0.0</th>\n",
       "<th>1.0</th>\n",
       "</tr>\n",
       "<tr>\n",
       "<th></th>\n",
       "<th>10.0</th>\n",
       "<th>1.0</th>\n",
       "<th>0.0</th>\n",
       "<th>-1.0</th>\n",
       "</tr>\n",
       "<tr>\n",
       "<th></th>\n",
       "<th>11.0</th>\n",
       "<th>1.0</th>\n",
       "<th>0.0</th>\n",
       "<th>1.0</th>\n",
       "</tr>\n",
       "<tr>\n",
       "<th></th>\n",
       "<th>12.0</th>\n",
       "<th>-1.0</th>\n",
       "<th>1.0</th>\n",
       "<th>0.0</th>\n",
       "</tr>\n",
       "<tr>\n",
       "<th></th>\n",
       "<th>13.0</th>\n",
       "<th>0.0</th>\n",
       "<th>1.0</th>\n",
       "<th>-1.0</th>\n",
       "</tr>\n",
       "<tr>\n",
       "<th></th>\n",
       "<th>14.0</th>\n",
       "<th>0.0</th>\n",
       "<th>1.0</th>\n",
       "<th>1.0</th>\n",
       "</tr>\n",
       "<tr>\n",
       "<th></th>\n",
       "<th>15.0</th>\n",
       "<th>1.0</th>\n",
       "<th>1.0</th>\n",
       "<th>0.0</th>\n",
       "</tr>\n",
       "</table>\n"
      ],
      "text/plain": [
       "<IPython.core.display.HTML object>"
      ]
     },
     "execution_count": 8,
     "metadata": {},
     "output_type": "execute_result"
    }
   ],
   "source": [
    "målinger = doe_grid([ [-1,1], [-1,1], [-1,1]], design = 2)\n",
    "\n",
    "html_table(målinger)"
   ]
  },
  {
   "cell_type": "code",
   "execution_count": null,
   "id": "7fb73b85",
   "metadata": {},
   "outputs": [],
   "source": [
    "visualize_doe_grid()"
   ]
  },
  {
   "cell_type": "markdown",
   "id": "63cbaf86",
   "metadata": {},
   "source": [
    "## 2. Regresjon\n",
    "\n",
    "\n"
   ]
  }
 ],
 "metadata": {
  "kernelspec": {
   "display_name": "Python 3 (ipykernel)",
   "language": "python",
   "name": "python3"
  },
  "language_info": {
   "codemirror_mode": {
    "name": "ipython",
    "version": 3
   },
   "file_extension": ".py",
   "mimetype": "text/x-python",
   "name": "python",
   "nbconvert_exporter": "python",
   "pygments_lexer": "ipython3",
   "version": "3.10.6"
  }
 },
 "nbformat": 4,
 "nbformat_minor": 5
}
